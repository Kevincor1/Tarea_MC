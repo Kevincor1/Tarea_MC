{
 "cells": [
  {
   "cell_type": "markdown",
   "metadata": {},
   "source": [
    "# Tarea Montecarlo\n"
   ]
  },
  {
   "cell_type": "markdown",
   "metadata": {},
   "source": [
    "### $\\displaystyle\\int_{0}^{10}dx (x^2-4)\\ \\ \\  \\ \\ (1) $ \n",
    "\n",
    "vamos a resolver la anterior integrar usando el metodo de montecarlo, para dicha integral vamos a utilizar una función de importancia dada por la fdp (normalizada) de una distribución uniforme.\n",
    "dado que la funcion de importancia debe estar normalizada en el intervalo de integración, la funcion de importancia es entonces:\n",
    "\n",
    "\n",
    "$p(x)= \\left\\{ \\begin{array}{lcc}\n",
    "             \\frac{1}{10} &   si  & 0 \\leq x \\leq 10 \\\\\n",
    "             \\\\ 0 &   &  \\text{en otro lado}\n",
    "             \\end{array}\n",
    "   \\right.  \\ \\ \\  \\ \\ (2)$\n",
    "   \n",
    "apartir de la muestra $\\{x_i\\}^N_{i=1}$ distribuida obviamente segun $p(x)$ (uniformemente, usando **random.uniform(0,10)**), estimamos el valor de la integral como:\n",
    "$\\displaystyle\\int_{0}^{10}dx (x^2-4)\\approx E$ \n",
    "\n",
    "\n",
    "$$E =\\dfrac{1}{N}\\displaystyle\\sum_{n=1}^{N}\\dfrac{f(x_n)}{p(x_n)} \\ \\ \\  \\ \\ \\ \\ (3)$$\n",
    "\n",
    "cuyo error viene dado por:\n",
    "$$\\Delta E= \\frac{\\sigma}{\\sqrt{N}} \\ \\ \\  \\ \\ \\ \\  (4)$$ \n",
    "\n",
    "donde\n",
    "\n",
    "$$\\sigma^2=\\dfrac{1}{N}\\displaystyle\\sum_{n=1}^{N} \\Big(\\dfrac{f(x_n)}{p(x_n)}\\Big)^2 - E^2 \\ \\ \\  \\ \\ \\ \\ (5) $$\n",
    "\n",
    "Estimemos entonces el valor de la integral dada en (1)\n"
   ]
  },
  {
   "cell_type": "code",
   "execution_count": 44,
   "metadata": {},
   "outputs": [],
   "source": [
    "import random\n",
    "import numpy as np\n",
    "from scipy.integrate import quad\n",
    "import matplotlib.pyplot as plt\n",
    "from time import time"
   ]
  },
  {
   "cell_type": "code",
   "execution_count": 46,
   "metadata": {},
   "outputs": [
    {
     "name": "stdout",
     "output_type": "stream",
     "text": [
      "El valor de la integral usando MC es:293.2384 +- 0.2983\n",
      "El valor analitico o real de la integral es: 293.333\n",
      "tiempo de ejecucion del codigo:13.1 seg\n"
     ]
    }
   ],
   "source": [
    "def f(x):  #Integrando\n",
    "    return x**2.-4\n",
    "\n",
    "def fdp_U(x,a,b):  # fdp uniforme\n",
    "    return 1/(b-a)\n",
    "\n",
    "N=1000000 # tamaño de la muestra 10^6\n",
    "a=0\n",
    "b=10\n",
    "Suma1=0\n",
    "Suma2=0\n",
    "\n",
    "ti=time()\n",
    "for i in range(N): # calculo de la estimacion\n",
    "    point = random.uniform(a,b) # muestra\n",
    "    w=f(point)/fdp_U(point,a,b)\n",
    "    Suma1=Suma1+w\n",
    "    Suma2=Suma2+w**2.\n",
    "tf=time() \n",
    "\n",
    "E=Suma1/N  # Integral (E)\n",
    "E2=Suma2/N \n",
    "sigma=np.sqrt(E2-E**2) # estimador de la varianza\n",
    "Error=sigma/np.sqrt(N) # Error estadistico\n",
    "Integral = quad(f, 0, 10) # valor \"exacto\"\n",
    "\n",
    "print(f\"El valor de la integral usando MC es:{E:.4f} +- {Error:.4f}\")\n",
    "print(f\"El valor analitico o real de la integral es: {Integral[0]:.3f}\")\n",
    "print(f\"tiempo de ejecucion del codigo:{(tf-ti):.1f} seg\")"
   ]
  },
  {
   "cell_type": "markdown",
   "metadata": {},
   "source": [
    "Veamos el otro ejercicio\n",
    "\n",
    "### $\\displaystyle\\int_{0.5}^{1.7}dx sin^2(x)\\ \\ \\  \\ \\ (6) $ \n",
    "\n",
    "Vamos a estimar el valor de esta integral tambien usando el mismo metodo de Montecarlo que usamos para la integral (1).\n",
    "Para ser más practicos con el método, vamos a usar otra fdp para estiamar (6), esta funcion es la fdp triangular(normalizada), la cual esta caraectizada por su limite inferior($a$), su limite superior($b$) y su moda($c$), claramente $a<c<b$, así,la fdp triangular esta dada por:\n",
    "\n",
    "$f(x) = \\left\\{ \\begin{array}{lcc}\n",
    "             \\frac{2(x-a)}{(b-a)(c-a)} &   si  & a\\leq x \\leq c \\\\\n",
    "             \\\\  \\frac{2(b-x)}{(b-a)(b-c)} &  si & c < x \\leq b \\\\\n",
    "             \\\\ 0 &    & \\text{en otro lado}\n",
    "             \\end{array}\n",
    "   \\right.\\ \\ \\  \\ \\  \\ \\ (7)  $\n",
    "\n",
    "estimamos la integral (6) y su error, usando las ecuaciones (3), (4) y (5).\n",
    "\n",
    "**Cuidado** la muestra $\\{x_i\\}^N_{i=1}$ debe estar distribuida segun la fdp triangular, para eso, usamos **random.triangular(a,b,c)** \n",
    "\n",
    "Estimemos entonces la integral (6)"
   ]
  },
  {
   "cell_type": "code",
   "execution_count": 51,
   "metadata": {},
   "outputs": [
    {
     "name": "stdout",
     "output_type": "stream",
     "text": [
      "El valor de la integral usando MC es:0.87416 +- 0.00082\n",
      "El valor analitico o real de la integral es: 0.874253\n",
      "tiempo de ejecucion del codigo:53.2 seg\n"
     ]
    }
   ],
   "source": [
    "def f(x): # integrando\n",
    "    return (np.sin(x))**2.\n",
    "\n",
    "def fdp_T(x,a,b,c): # fdp triangular normalizada\n",
    "    if a<=x<=c:\n",
    "        y=2*(x-a)/((b-a)*(c-a))\n",
    "    else: \n",
    "        y=2*(b-x)/((b-a)*(b-c))\n",
    "    return y\n",
    "\n",
    "N=1000000 #tamaño de la muestra 10^6\n",
    "a=0.5  # limite inferior \n",
    "b=1.7  # limite superior \n",
    "c=np.pi/2   # moda de la fdp triangular arbitrario, con a<c<b\n",
    "Suma1=0\n",
    "Suma2=0\n",
    "\n",
    "ti=time()\n",
    "for i in range(N): #calculo de E\n",
    "    point = random.triangular(a,b,c) #muestra \n",
    "    w=(f(point)/fdp_T(point,a,b,c))\n",
    "    Suma1=Suma1+w\n",
    "    Suma2=Suma2+w**2.\n",
    "tf=time()\n",
    "\n",
    "E=Suma1/N # valor de la estimacion\n",
    "E2=Suma2/N\n",
    "sigma=np.sqrt(E2-E**2) # estimador de la varianza\n",
    "Error=sigma/np.sqrt(N) #error estadistico\n",
    "Integral = quad(f, 0.5, 1.7) # Valor \"exacto\" \n",
    "print(f\"El valor de la integral usando MC es:{E:.5f} +- {Error:.5f}\")\n",
    "print(f\"El valor analitico o real de la integral es: {Integral[0]:.6f}\")\n",
    "print(f\"tiempo de ejecucion del codigo:{(tf-ti):.1f} seg\")"
   ]
  },
  {
   "cell_type": "code",
   "execution_count": null,
   "metadata": {},
   "outputs": [],
   "source": []
  }
 ],
 "metadata": {
  "kernelspec": {
   "display_name": "Python 3",
   "language": "python",
   "name": "python3"
  },
  "language_info": {
   "codemirror_mode": {
    "name": "ipython",
    "version": 3
   },
   "file_extension": ".py",
   "mimetype": "text/x-python",
   "name": "python",
   "nbconvert_exporter": "python",
   "pygments_lexer": "ipython3",
   "version": "3.7.6"
  }
 },
 "nbformat": 4,
 "nbformat_minor": 4
}
